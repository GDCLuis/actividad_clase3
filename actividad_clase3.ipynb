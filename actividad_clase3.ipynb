{
 "cells": [
  {
   "cell_type": "markdown",
   "metadata": {},
   "source": [
    "**Ejercicios para aprender a usar github**\n",
    "\n",
    "\n"
   ]
  },
  {
   "cell_type": "markdown",
   "metadata": {},
   "source": [
    "Datos Simples:\n",
    "\n",
    "1) Crear una lista de nombres de ciudades."
   ]
  },
  {
   "cell_type": "code",
   "execution_count": 2,
   "metadata": {},
   "outputs": [
    {
     "name": "stdout",
     "output_type": "stream",
     "text": [
      "['Buenos Aires', 'Córdoba', 'Rosario', 'Mendoza']\n"
     ]
    }
   ],
   "source": [
    "ciudades_argentinas = [\"Buenos Aires\", \"Córdoba\", \"Rosario\", \"Mendoza\"]\n",
    "print (ciudades_argentinas)\n"
   ]
  },
  {
   "cell_type": "markdown",
   "metadata": {},
   "source": [
    "2. Crear un diccionario con información de empleados (nombre, cargo, salario)."
   ]
  },
  {
   "cell_type": "code",
   "execution_count": 5,
   "metadata": {},
   "outputs": [
    {
     "name": "stdout",
     "output_type": "stream",
     "text": [
      "{'Kenia': {'cargo': 'Gerente', 'salario': 500000}, 'Luis': {'cargo': 'Analista', 'salario': 350000}, 'Ines': {'cargo': 'Desarrollador', 'salario': 400000}, 'Florencia': {'cargo': 'Diseñadora', 'salario': 380000}}\n"
     ]
    }
   ],
   "source": [
    "empleados = {\n",
    "    \"Kenia\": {\"cargo\": \"Gerente\", \"salario\": 500000},\n",
    "    \"Luis\": {\"cargo\": \"Analista\", \"salario\": 350000},\n",
    "    \"Ines\": {\"cargo\": \"Desarrollador\", \"salario\": 400000},\n",
    "    \"Florencia\": {\"cargo\": \"Diseñadora\", \"salario\": 380000}\n",
    "}\n",
    "print (empleados)\n",
    "\n",
    "\n"
   ]
  },
  {
   "cell_type": "markdown",
   "metadata": {},
   "source": [
    "3. Mostrar cómo acceder a un elemento específico en una lista y en un diccionario."
   ]
  },
  {
   "cell_type": "code",
   "execution_count": 15,
   "metadata": {},
   "outputs": [
    {
     "name": "stdout",
     "output_type": "stream",
     "text": [
      "la segunda ciudad es:\n",
      "Córdoba\n"
     ]
    }
   ],
   "source": [
    "print (\"la segunda ciudad es:\")\n",
    "print(ciudades_argentinas[1])"
   ]
  },
  {
   "cell_type": "code",
   "execution_count": 16,
   "metadata": {},
   "outputs": [
    {
     "name": "stdout",
     "output_type": "stream",
     "text": [
      "El salario de Luis es: 350000\n"
     ]
    }
   ],
   "source": [
    "salario_luis = empleados[\"Luis\"][\"salario\"]\n",
    "print(\"El salario de Luis es:\", salario_luis)"
   ]
  },
  {
   "cell_type": "markdown",
   "metadata": {},
   "source": [
    "**Manipulación de Listas y Métodos:**\n",
    "1) Crea una lista inicial de números enteros.\n",
    "\n"
   ]
  },
  {
   "cell_type": "code",
   "execution_count": 17,
   "metadata": {},
   "outputs": [
    {
     "name": "stdout",
     "output_type": "stream",
     "text": [
      "[1, 2, 3, 4, 5]\n"
     ]
    }
   ],
   "source": [
    "numeros_enteros = [1, 2, 3, 4, 5]\n",
    "print (numeros_enteros)"
   ]
  },
  {
   "cell_type": "markdown",
   "metadata": {},
   "source": [
    "2. Utiliza el método .append() para agregar un número al final de la lista."
   ]
  },
  {
   "cell_type": "code",
   "execution_count": 18,
   "metadata": {},
   "outputs": [
    {
     "name": "stdout",
     "output_type": "stream",
     "text": [
      "[1, 2, 3, 4, 5, 6]\n"
     ]
    }
   ],
   "source": [
    "numeros_enteros.append(6)\n",
    "print(numeros_enteros)"
   ]
  },
  {
   "cell_type": "markdown",
   "metadata": {},
   "source": [
    "3. Utiliza el método .extend() para agregar múltiples elementos a la lista."
   ]
  },
  {
   "cell_type": "code",
   "execution_count": 19,
   "metadata": {},
   "outputs": [
    {
     "name": "stdout",
     "output_type": "stream",
     "text": [
      "[1, 2, 3, 4, 5, 6, 7, 8, 9]\n"
     ]
    }
   ],
   "source": [
    "numeros_nuevos = [ 7, 8, 9]\n",
    "numeros_enteros.extend(numeros_nuevos)\n",
    "print (numeros_enteros)"
   ]
  },
  {
   "cell_type": "markdown",
   "metadata": {},
   "source": [
    "4. Utiliza el método .insert() para insertar un número en una posición específica de la lista."
   ]
  },
  {
   "cell_type": "code",
   "execution_count": 8,
   "metadata": {},
   "outputs": [
    {
     "name": "stdout",
     "output_type": "stream",
     "text": [
      "[1, 2, 35, 3, 4, 5]\n"
     ]
    }
   ],
   "source": [
    "numeros_enteros = [1, 2, 3, 4, 5]\n",
    "numeros_enteros.insert(2, 35)\n",
    "print(numeros_enteros)"
   ]
  },
  {
   "cell_type": "markdown",
   "metadata": {},
   "source": [
    "4)Muestra cómo utilizar el método .sort() para ordenar la lista de números de forma ascendente."
   ]
  },
  {
   "cell_type": "code",
   "execution_count": 9,
   "metadata": {},
   "outputs": [
    {
     "name": "stdout",
     "output_type": "stream",
     "text": [
      "[1, 2, 3, 4, 5, 35]\n"
     ]
    }
   ],
   "source": [
    "numeros_enteros.sort()\n",
    "\n",
    "print(numeros_enteros)"
   ]
  },
  {
   "cell_type": "markdown",
   "metadata": {},
   "source": [
    "**Manipulación de Diccionarios y Métodos:**\n",
    "\n",
    "1)Crea un diccionario con información de productos (nombre del producto, precio, cantidad en stock)."
   ]
  },
  {
   "cell_type": "code",
   "execution_count": null,
   "metadata": {},
   "outputs": [],
   "source": [
    "\n",
    "productos = {\n",
    "    \"producto1\": {\"nombre\": \"Camisa\", \"precio\": 65000, \"cantidad_en_stock\": 21},\n",
    "    \"producto2\": {\"nombre\": \"Pantalón\", \"precio\": 40000, \"cantidad_en_stock\": 25},\n",
    "    \"producto3\": {\"nombre\": \"Zapatos\", \"precio\": 50000, \"cantidad_en_stock\": 10}\n",
    "}\n"
   ]
  },
  {
   "cell_type": "markdown",
   "metadata": {},
   "source": [
    "2) Utiliza el método .keys() para obtener una lista de las llaves (nombres de productos) en el\n",
    " diccionario."
   ]
  },
  {
   "cell_type": "code",
   "execution_count": 15,
   "metadata": {},
   "outputs": [
    {
     "name": "stdout",
     "output_type": "stream",
     "text": [
      "dict_keys(['producto1', 'producto2', 'producto3'])\n"
     ]
    }
   ],
   "source": [
    "productos = {\n",
    "    \"producto1\": {\"nombre\": \"Camisa\", \"precio\": 65000, \"cantidad_en_stock\": 21},\n",
    "    \"producto2\": {\"nombre\": \"Pantalón\", \"precio\": 40000, \"cantidad_en_stock\": 25},\n",
    "    \"producto3\": {\"nombre\": \"Zapatos\", \"precio\": 50000, \"cantidad_en_stock\": 10}\n",
    "}\n",
    "nombres_productos = productos.keys()\n",
    "print (nombres_productos)"
   ]
  },
  {
   "cell_type": "markdown",
   "metadata": {},
   "source": [
    "3.Utiliza el método .values() para obtener una lista de los valores (precios y cantidades) en\n",
    " el diccionario"
   ]
  },
  {
   "cell_type": "code",
   "execution_count": null,
   "metadata": {},
   "outputs": [],
   "source": []
  }
 ],
 "metadata": {
  "kernelspec": {
   "display_name": "Python 3",
   "language": "python",
   "name": "python3"
  },
  "language_info": {
   "codemirror_mode": {
    "name": "ipython",
    "version": 3
   },
   "file_extension": ".py",
   "mimetype": "text/x-python",
   "name": "python",
   "nbconvert_exporter": "python",
   "pygments_lexer": "ipython3",
   "version": "3.11.9"
  }
 },
 "nbformat": 4,
 "nbformat_minor": 2
}
